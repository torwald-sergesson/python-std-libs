{
 "cells": [
  {
   "cell_type": "markdown",
   "metadata": {},
   "source": [
    "# textwrap — Text wrapping and filling\n",
    "\n",
    "https://docs.python.org/3/library/textwrap.html"
   ]
  },
  {
   "cell_type": "code",
   "execution_count": 54,
   "metadata": {},
   "outputs": [],
   "source": [
    "text = \"\"\"Многие думают, что Lorem Ipsum - взятый с потолка псевдо-латинский набор слов, но это не совсем так. Его корни уходят в один фрагмент классической латыни 45 года н.э., то есть более двух тысячелетий назад. Ричард МакКлинток, профессор латыни из колледжа Hampden-Sydney, штат Вирджиния, взял одно из самых странных слов в Lorem Ipsum, \"consectetur\", и занялся его поисками в классической латинской литературе. В результате он нашёл неоспоримый первоисточник Lorem Ipsum в разделах 1.10.32 и 1.10.33 книги \"de Finibus Bonorum et Malorum\" (\"О пределах добра и зла\"), написанной Цицероном в 45 году н.э. Этот трактат по теории этики был очень популярен в эпоху Возрождения. Первая строка Lorem Ipsum, \"Lorem ipsum dolor sit amet..\", происходитотоднойизстроквразделе1.10.32 Классический текст Lorem Ipsum, используемый с XVI века, приведён ниже. Также даны разделы 1.10.32 и 1.10.33 \"de Finibus Bonorum et Malorum\" Цицерона и их английский перевод, сделанный H. Rackham, 1914 год.\"\"\""
   ]
  },
  {
   "cell_type": "code",
   "execution_count": 43,
   "metadata": {},
   "outputs": [],
   "source": [
    "import textwrap"
   ]
  },
  {
   "cell_type": "code",
   "execution_count": 44,
   "metadata": {},
   "outputs": [
    {
     "data": {
      "text/plain": [
       "['Многие думают, что Lorem Ipsum - взятый',\n",
       " 'с потолка псевдо-латинский набор слов,',\n",
       " 'но это не совсем так. Его корни уходят в',\n",
       " 'один фрагмент классической латыни 45',\n",
       " 'года н.э., то есть более двух',\n",
       " 'тысячелетий назад. Ричард МакКлинток,',\n",
       " 'профессор латыни из колледжа Hampden-',\n",
       " 'Sydney, штат Вирджиния, взял одно из',\n",
       " 'самых странных слов в Lorem Ipsum,',\n",
       " '\"consectetur\", и занялся его поисками в',\n",
       " 'классической латинской литературе. В',\n",
       " 'результате он нашёл неоспоримый',\n",
       " 'первоисточник Lorem Ipsum в разделах',\n",
       " '1.10.32 и 1.10.33 книги \"de Finibus',\n",
       " 'Bonorum et Malorum\" (\"О пределах добра и',\n",
       " 'зла\"), написанной Цицероном в 45 году',\n",
       " 'н.э. Этот трактат по теории этики был',\n",
       " 'очень популярен в эпоху Возрождения.',\n",
       " 'Первая строка Lorem Ipsum, \"Lorem ipsum',\n",
       " 'dolor sit amet..\", происходит от одной',\n",
       " 'из строк в разделе 1.10.32 Классический',\n",
       " 'текст Lorem Ipsum, используемый с XVI',\n",
       " 'века, приведён ниже. Также даны разделы',\n",
       " '1.10.32 и 1.10.33 \"de Finibus Bonorum et',\n",
       " 'Malorum\" Цицерона и их английский',\n",
       " 'перевод, сделанный H. Rackham, 1914 год.']"
      ]
     },
     "execution_count": 44,
     "metadata": {},
     "output_type": "execute_result"
    }
   ],
   "source": [
    "# split text into strings with length <= width\n",
    "textwrap.wrap(text, width=40)"
   ]
  },
  {
   "cell_type": "code",
   "execution_count": 45,
   "metadata": {},
   "outputs": [
    {
     "data": {
      "text/plain": [
       "'Многие думают,\\nчто Lorem Ipsum\\n- взятый с\\nпотолка псевдо-\\nлатинский набор\\nслов, но это не\\nсовсем так. Его\\nкорни уходят в\\nодин фрагмент\\nклассической\\nлатыни 45 года\\nн.э., то есть\\nболее двух\\nтысячелетий\\nназад. Ричард\\nМакКлинток,\\nпрофессор\\nлатыни из\\nколледжа\\nHampden-Sydney,\\nштат Вирджиния,\\nвзял одно из\\nсамых странных\\nслов в Lorem\\nIpsum,\\n\"consectetur\",\\nи занялся его\\nпоисками в\\nклассической\\nлатинской\\nлитературе. В\\nрезультате он\\nнашёл\\nнеоспоримый\\nпервоисточник\\nLorem Ipsum в\\nразделах\\n1.10.32 и\\n1.10.33 книги\\n\"de Finibus\\nBonorum et\\nMalorum\" (\"О\\nпределах добра\\nи зла\"),\\nнаписанной\\nЦицероном в 45\\nгоду н.э. Этот\\nтрактат по\\nтеории этики\\nбыл очень\\nпопулярен в\\nэпоху\\nВозрождения.\\nПервая строка\\nLorem Ipsum,\\n\"Lorem ipsum\\ndolor sit\\namet..\",\\nпроисходит от\\nодной из строк\\nв разделе\\n1.10.32\\nКлассический\\nтекст Lorem\\nIpsum,\\nиспользуемый с\\nXVI века,\\nприведён ниже.\\nТакже даны\\nразделы 1.10.32\\nи 1.10.33 \"de\\nFinibus Bonorum\\net Malorum\"\\nЦицерона и их\\nанглийский\\nперевод,\\nсделанный H.\\nRackham, 1914\\nгод.'"
      ]
     },
     "execution_count": 45,
     "metadata": {},
     "output_type": "execute_result"
    }
   ],
   "source": [
    "# synonym for '\\n'.join(textwrap.wrap(text, width=15))\n",
    "textwrap.fill(text, width=15)"
   ]
  },
  {
   "cell_type": "code",
   "execution_count": 46,
   "metadata": {},
   "outputs": [
    {
     "data": {
      "text/plain": [
       "'Многие думают, что Lorem Ipsum - взятый с потолка псевдо-...'"
      ]
     },
     "execution_count": 46,
     "metadata": {},
     "output_type": "execute_result"
    }
   ],
   "source": [
    "textwrap.shorten(text, width=60, placeholder='...')"
   ]
  },
  {
   "cell_type": "code",
   "execution_count": 47,
   "metadata": {},
   "outputs": [
    {
     "data": {
      "text/plain": [
       "'Hallo'"
      ]
     },
     "execution_count": 47,
     "metadata": {},
     "output_type": "execute_result"
    }
   ],
   "source": [
    "textwrap.shorten('Hallo', width=50)"
   ]
  },
  {
   "cell_type": "code",
   "execution_count": 48,
   "metadata": {},
   "outputs": [
    {
     "data": {
      "text/plain": [
       "'\\n    hello   \\n        world\\nedys\\n'"
      ]
     },
     "execution_count": 48,
     "metadata": {},
     "output_type": "execute_result"
    }
   ],
   "source": [
    "s = '''\n",
    "        hello   \n",
    "            world\n",
    "    edys\n",
    "    '''\n",
    "textwrap.dedent(s)"
   ]
  },
  {
   "cell_type": "code",
   "execution_count": 49,
   "metadata": {},
   "outputs": [
    {
     "data": {
      "text/plain": [
       "'+   Многие думают, что Lorem Ipsum - взятый с потолка\\n+   псевдо-латинский набор слов, но это не совсем так.\\n+   Его корни уходят в один фрагмент классической\\n+   латыни 45 года н.э., то есть более двух\\n+   тысячелетий назад. Ричард МакКлинток, профессор\\n+   латыни из колледжа Hampden-Sydney, штат Вирджиния,\\n+   взял одно из самых странных слов в Lorem Ipsum,\\n+   \"consectetur\", и занялся его поисками в\\n+   классической латинской литературе. В результате он\\n+   нашёл неоспоримый первоисточник Lorem Ipsum в\\n+   разделах 1.10.32 и 1.10.33 книги \"de Finibus\\n+   Bonorum et Malorum\" (\"О пределах добра и зла\"),\\n+   написанной Цицероном в 45 году н.э. Этот трактат\\n+   по теории этики был очень популярен в эпоху\\n+   Возрождения. Первая строка Lorem Ipsum, \"Lorem\\n+   ipsum dolor sit amet..\", происходит от одной из\\n+   строк в разделе 1.10.32 Классический текст Lorem\\n+   Ipsum, используемый с XVI века, приведён ниже.\\n+   Также даны разделы 1.10.32 и 1.10.33 \"de Finibus\\n+   Bonorum et Malorum\" Цицерона и их английский\\n+   перевод, сделанный H. Rackham, 1914 год.'"
      ]
     },
     "execution_count": 49,
     "metadata": {},
     "output_type": "execute_result"
    }
   ],
   "source": [
    "textwrap.indent(textwrap.fill(text, width=50), prefix='+   ')"
   ]
  },
  {
   "cell_type": "markdown",
   "metadata": {},
   "source": [
    "## Text Wrapper class"
   ]
  },
  {
   "cell_type": "code",
   "execution_count": 50,
   "metadata": {},
   "outputs": [],
   "source": [
    "wrapper = textwrap.TextWrapper(\n",
    "    initial_indent='* ', \n",
    "    width=40,\n",
    "    max_lines=2,\n",
    "    placeholder='...'\n",
    ")"
   ]
  },
  {
   "cell_type": "code",
   "execution_count": 51,
   "metadata": {},
   "outputs": [
    {
     "data": {
      "text/plain": [
       "['* Многие думают, что Lorem Ipsum -', 'взятый с потолка псевдо-латинский...']"
      ]
     },
     "execution_count": 51,
     "metadata": {},
     "output_type": "execute_result"
    }
   ],
   "source": [
    "wrapper.wrap(text)"
   ]
  },
  {
   "cell_type": "code",
   "execution_count": 52,
   "metadata": {},
   "outputs": [
    {
     "data": {
      "text/plain": [
       "'* Многие думают, что Lorem Ipsum -\\nвзятый с потолка псевдо-латинский...'"
      ]
     },
     "execution_count": 52,
     "metadata": {},
     "output_type": "execute_result"
    }
   ],
   "source": [
    "wrapper.fill(text)"
   ]
  },
  {
   "cell_type": "code",
   "execution_count": 60,
   "metadata": {},
   "outputs": [
    {
     "data": {
      "text/plain": [
       "['Многие',\n",
       " 'думают, что',\n",
       " 'Lorem Ipsum',\n",
       " '- взятый с',\n",
       " 'потолка',\n",
       " 'псевдо-',\n",
       " 'латинский',\n",
       " 'набор слов,',\n",
       " 'но это не',\n",
       " 'совсем так.']"
      ]
     },
     "execution_count": 60,
     "metadata": {},
     "output_type": "execute_result"
    }
   ],
   "source": [
    "textwrap.wrap(\n",
    "    text, \n",
    "    width=12, \n",
    "    break_long_words=True, \n",
    "    max_lines=10, \n",
    "    placeholder='',\n",
    ")"
   ]
  },
  {
   "cell_type": "code",
   "execution_count": 65,
   "metadata": {},
   "outputs": [
    {
     "data": {
      "text/plain": [
       "'Hallo...'"
      ]
     },
     "execution_count": 65,
     "metadata": {},
     "output_type": "execute_result"
    }
   ],
   "source": [
    "textwrap.shorten('Hallo world', width=10, placeholder='...')"
   ]
  },
  {
   "cell_type": "code",
   "execution_count": null,
   "metadata": {},
   "outputs": [],
   "source": []
  }
 ],
 "metadata": {
  "kernelspec": {
   "display_name": "Python 3",
   "language": "python",
   "name": "python3"
  },
  "language_info": {
   "codemirror_mode": {
    "name": "ipython",
    "version": 3
   },
   "file_extension": ".py",
   "mimetype": "text/x-python",
   "name": "python",
   "nbconvert_exporter": "python",
   "pygments_lexer": "ipython3",
   "version": "3.6.4"
  }
 },
 "nbformat": 4,
 "nbformat_minor": 2
}
