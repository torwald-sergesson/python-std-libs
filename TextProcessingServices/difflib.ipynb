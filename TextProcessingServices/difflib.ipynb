{
 "cells": [
  {
   "cell_type": "markdown",
   "metadata": {},
   "source": [
    "# difflib — Helpers for computing deltas\n",
    "\n",
    "* https://docs.python.org/3/library/difflib.html\n",
    "* https://pymotw.com/3/difflib/"
   ]
  },
  {
   "cell_type": "code",
   "execution_count": 1,
   "metadata": {},
   "outputs": [],
   "source": [
    "import difflib"
   ]
  },
  {
   "cell_type": "markdown",
   "metadata": {},
   "source": [
    "The difflib module contains tools for computing and working with differences between sequences. It is especially useful for comparing text, and includes functions that produce reports using several common difference formats."
   ]
  },
  {
   "cell_type": "code",
   "execution_count": 2,
   "metadata": {},
   "outputs": [],
   "source": [
    "text1 = \"\"\"Lorem ipsum dolor sit amet, consectetuer adipiscing\n",
    "elit. Integer eu lacus accumsan arcu fermentum euismod. Donec\n",
    "pulvinar porttitor tellus. Aliquam venenatis. Donec facilisis\n",
    "pharetra tortor.  In nec mauris eget magna consequat\n",
    "convalis. Nam sed sem vitae odio pellentesque interdum. Sed\n",
    "consequat viverra nisl. Suspendisse arcu metus, blandit quis,\n",
    "rhoncus ac, pharetra eget, velit. Mauris urna. Morbi nonummy\n",
    "molestie orci. Praesent nisi elit, fringilla ac, suscipit non,\n",
    "tristique vel, mauris. Curabitur vel lorem id nisl porta\n",
    "adipiscing. Suspendisse eu lectus. In nunc. Duis vulputate\n",
    "tristique enim. Donec quis lectus a justo imperdiet tempus.\"\"\"\n",
    "\n",
    "text1_lines = text1.splitlines()\n",
    "\n",
    "text2 = \"\"\"Lorem ipsum dolor sit amet, consectetuer adipiscing\n",
    "elit. Integer eu lacus accumsan arcu fermentum euismod. Donec\n",
    "pulvinar, porttitor tellus. Aliquam venenatis. Donec facilisis\n",
    "pharetra tortor. In nec mauris eget magna consequat\n",
    "convalis. Nam cras vitae mi vitae odio pellentesque interdum. Sed\n",
    "consequat viverra nisl. Suspendisse arcu metus, blandit quis,\n",
    "rhoncus ac, pharetra eget, velit. Mauris urna. Morbi nonummy\n",
    "molestie orci. Praesent nisi elit, fringilla ac, suscipit non,\n",
    "tristique vel, mauris. Curabitur vel lorem id nisl porta\n",
    "adipiscing. Duis vulputate tristique enim. Donec quis lectus a\n",
    "justo imperdiet tempus.  Suspendisse eu lectus. In nunc.\"\"\"\n",
    "\n",
    "text2_lines = text2.splitlines()"
   ]
  },
  {
   "cell_type": "code",
   "execution_count": 3,
   "metadata": {},
   "outputs": [],
   "source": [
    "d = difflib.Differ()"
   ]
  },
  {
   "cell_type": "code",
   "execution_count": 6,
   "metadata": {},
   "outputs": [
    {
     "data": {
      "text/plain": [
       "['Lorem ipsum dolor sit amet, consectetuer adipiscing',\n",
       " 'elit. Integer eu lacus accumsan arcu fermentum euismod. Donec',\n",
       " 'pulvinar porttitor tellus. Aliquam venenatis. Donec facilisis',\n",
       " 'pharetra tortor.  In nec mauris eget magna consequat',\n",
       " 'convalis. Nam sed sem vitae odio pellentesque interdum. Sed',\n",
       " 'consequat viverra nisl. Suspendisse arcu metus, blandit quis,',\n",
       " 'rhoncus ac, pharetra eget, velit. Mauris urna. Morbi nonummy',\n",
       " 'molestie orci. Praesent nisi elit, fringilla ac, suscipit non,',\n",
       " 'tristique vel, mauris. Curabitur vel lorem id nisl porta',\n",
       " 'adipiscing. Suspendisse eu lectus. In nunc. Duis vulputate',\n",
       " 'tristique enim. Donec quis lectus a justo imperdiet tempus.']"
      ]
     },
     "execution_count": 6,
     "metadata": {},
     "output_type": "execute_result"
    }
   ],
   "source": [
    "text1_lines"
   ]
  },
  {
   "cell_type": "code",
   "execution_count": 7,
   "metadata": {},
   "outputs": [
    {
     "data": {
      "text/plain": [
       "['Lorem ipsum dolor sit amet, consectetuer adipiscing',\n",
       " 'elit. Integer eu lacus accumsan arcu fermentum euismod. Donec',\n",
       " 'pulvinar, porttitor tellus. Aliquam venenatis. Donec facilisis',\n",
       " 'pharetra tortor. In nec mauris eget magna consequat',\n",
       " 'convalis. Nam cras vitae mi vitae odio pellentesque interdum. Sed',\n",
       " 'consequat viverra nisl. Suspendisse arcu metus, blandit quis,',\n",
       " 'rhoncus ac, pharetra eget, velit. Mauris urna. Morbi nonummy',\n",
       " 'molestie orci. Praesent nisi elit, fringilla ac, suscipit non,',\n",
       " 'tristique vel, mauris. Curabitur vel lorem id nisl porta',\n",
       " 'adipiscing. Duis vulputate tristique enim. Donec quis lectus a',\n",
       " 'justo imperdiet tempus.  Suspendisse eu lectus. In nunc.']"
      ]
     },
     "execution_count": 7,
     "metadata": {},
     "output_type": "execute_result"
    }
   ],
   "source": [
    "text2_lines"
   ]
  },
  {
   "cell_type": "code",
   "execution_count": 4,
   "metadata": {},
   "outputs": [],
   "source": [
    "diff = d.compare(text1_lines, text2_lines)"
   ]
  },
  {
   "cell_type": "code",
   "execution_count": 5,
   "metadata": {},
   "outputs": [
    {
     "name": "stdout",
     "output_type": "stream",
     "text": [
      "  Lorem ipsum dolor sit amet, consectetuer adipiscing\n",
      "  elit. Integer eu lacus accumsan arcu fermentum euismod. Donec\n",
      "- pulvinar porttitor tellus. Aliquam venenatis. Donec facilisis\n",
      "+ pulvinar, porttitor tellus. Aliquam venenatis. Donec facilisis\n",
      "?         +\n",
      "\n",
      "- pharetra tortor.  In nec mauris eget magna consequat\n",
      "?                 -\n",
      "\n",
      "+ pharetra tortor. In nec mauris eget magna consequat\n",
      "- convalis. Nam sed sem vitae odio pellentesque interdum. Sed\n",
      "?                 - --\n",
      "\n",
      "+ convalis. Nam cras vitae mi vitae odio pellentesque interdum. Sed\n",
      "?               +++ +++++   +\n",
      "\n",
      "  consequat viverra nisl. Suspendisse arcu metus, blandit quis,\n",
      "  rhoncus ac, pharetra eget, velit. Mauris urna. Morbi nonummy\n",
      "  molestie orci. Praesent nisi elit, fringilla ac, suscipit non,\n",
      "  tristique vel, mauris. Curabitur vel lorem id nisl porta\n",
      "- adipiscing. Suspendisse eu lectus. In nunc. Duis vulputate\n",
      "- tristique enim. Donec quis lectus a justo imperdiet tempus.\n",
      "+ adipiscing. Duis vulputate tristique enim. Donec quis lectus a\n",
      "+ justo imperdiet tempus.  Suspendisse eu lectus. In nunc.\n"
     ]
    }
   ],
   "source": [
    "print('\\n'.join(diff))"
   ]
  },
  {
   "cell_type": "code",
   "execution_count": 8,
   "metadata": {},
   "outputs": [
    {
     "name": "stdout",
     "output_type": "stream",
     "text": [
      "--- \n",
      "+++ \n",
      "@@ -1,11 +1,11 @@\n",
      " Lorem ipsum dolor sit amet, consectetuer adipiscing\n",
      " elit. Integer eu lacus accumsan arcu fermentum euismod. Donec\n",
      "-pulvinar porttitor tellus. Aliquam venenatis. Donec facilisis\n",
      "-pharetra tortor.  In nec mauris eget magna consequat\n",
      "-convalis. Nam sed sem vitae odio pellentesque interdum. Sed\n",
      "+pulvinar, porttitor tellus. Aliquam venenatis. Donec facilisis\n",
      "+pharetra tortor. In nec mauris eget magna consequat\n",
      "+convalis. Nam cras vitae mi vitae odio pellentesque interdum. Sed\n",
      " consequat viverra nisl. Suspendisse arcu metus, blandit quis,\n",
      " rhoncus ac, pharetra eget, velit. Mauris urna. Morbi nonummy\n",
      " molestie orci. Praesent nisi elit, fringilla ac, suscipit non,\n",
      " tristique vel, mauris. Curabitur vel lorem id nisl porta\n",
      "-adipiscing. Suspendisse eu lectus. In nunc. Duis vulputate\n",
      "-tristique enim. Donec quis lectus a justo imperdiet tempus.\n",
      "+adipiscing. Duis vulputate tristique enim. Donec quis lectus a\n",
      "+justo imperdiet tempus.  Suspendisse eu lectus. In nunc.\n"
     ]
    }
   ],
   "source": [
    "diff = difflib.unified_diff(text1_lines, text2_lines, lineterm='')\n",
    "print('\\n'.join(diff))"
   ]
  },
  {
   "cell_type": "code",
   "execution_count": 15,
   "metadata": {},
   "outputs": [
    {
     "name": "stdout",
     "output_type": "stream",
     "text": [
      "*** \n",
      "\n",
      "--- \n",
      "\n",
      "***************\n",
      "\n",
      "*** 1,11 ****\n",
      "\n",
      "  Lorem ipsum dolor sit amet, consectetuer adipiscing\n",
      "  elit. Integer eu lacus accumsan arcu fermentum euismod. Donec\n",
      "! pulvinar porttitor tellus. Aliquam venenatis. Donec facilisis\n",
      "! pharetra tortor.  In nec mauris eget magna consequat\n",
      "! convalis. Nam sed sem vitae odio pellentesque interdum. Sed\n",
      "  consequat viverra nisl. Suspendisse arcu metus, blandit quis,\n",
      "  rhoncus ac, pharetra eget, velit. Mauris urna. Morbi nonummy\n",
      "  molestie orci. Praesent nisi elit, fringilla ac, suscipit non,\n",
      "  tristique vel, mauris. Curabitur vel lorem id nisl porta\n",
      "! adipiscing. Suspendisse eu lectus. In nunc. Duis vulputate\n",
      "! tristique enim. Donec quis lectus a justo imperdiet tempus.\n",
      "--- 1,11 ----\n",
      "\n",
      "  Lorem ipsum dolor sit amet, consectetuer adipiscing\n",
      "  elit. Integer eu lacus accumsan arcu fermentum euismod. Donec\n",
      "! pulvinar, porttitor tellus. Aliquam venenatis. Donec facilisis\n",
      "! pharetra tortor. In nec mauris eget magna consequat\n",
      "! convalis. Nam cras vitae mi vitae odio pellentesque interdum. Sed\n",
      "  consequat viverra nisl. Suspendisse arcu metus, blandit quis,\n",
      "  rhoncus ac, pharetra eget, velit. Mauris urna. Morbi nonummy\n",
      "  molestie orci. Praesent nisi elit, fringilla ac, suscipit non,\n",
      "  tristique vel, mauris. Curabitur vel lorem id nisl porta\n",
      "! adipiscing. Duis vulputate tristique enim. Donec quis lectus a\n",
      "! justo imperdiet tempus.  Suspendisse eu lectus. In nunc.\n"
     ]
    }
   ],
   "source": [
    "print('\\n'.join(difflib.context_diff(text1_lines, text2_lines)))"
   ]
  },
  {
   "cell_type": "code",
   "execution_count": 16,
   "metadata": {},
   "outputs": [],
   "source": [
    "from difflib import SequenceMatcher"
   ]
  },
  {
   "cell_type": "code",
   "execution_count": 17,
   "metadata": {},
   "outputs": [],
   "source": [
    "def show_results(match):\n",
    "    print('  a    = {}'.format(match.a))\n",
    "    print('  b    = {}'.format(match.b))\n",
    "    print('  size = {}'.format(match.size))\n",
    "    i, j, k = match\n",
    "    print('  A[a:a+size] = {!r}'.format(A[i:i + k]))\n",
    "    print('  B[b:b+size] = {!r}'.format(B[j:j + k]))"
   ]
  },
  {
   "cell_type": "code",
   "execution_count": 18,
   "metadata": {},
   "outputs": [
    {
     "name": "stdout",
     "output_type": "stream",
     "text": [
      "A = ' abcd'\n",
      "B = 'abcd abcd'\n"
     ]
    }
   ],
   "source": [
    "A = \" abcd\"\n",
    "B = \"abcd abcd\"\n",
    "\n",
    "print('A = {!r}'.format(A))\n",
    "print('B = {!r}'.format(B))"
   ]
  },
  {
   "cell_type": "code",
   "execution_count": 19,
   "metadata": {},
   "outputs": [
    {
     "name": "stdout",
     "output_type": "stream",
     "text": [
      "\n",
      "Without junk detection:\n",
      "  a    = 0\n",
      "  b    = 4\n",
      "  size = 5\n",
      "  A[a:a+size] = ' abcd'\n",
      "  B[b:b+size] = ' abcd'\n"
     ]
    }
   ],
   "source": [
    "print('\\nWithout junk detection:')\n",
    "s1 = SequenceMatcher(None, A, B)\n",
    "match1 = s1.find_longest_match(0, len(A), 0, len(B))\n",
    "show_results(match1)"
   ]
  },
  {
   "cell_type": "code",
   "execution_count": 20,
   "metadata": {},
   "outputs": [
    {
     "name": "stdout",
     "output_type": "stream",
     "text": [
      "\n",
      "Treat spaces as junk:\n",
      "  a    = 1\n",
      "  b    = 0\n",
      "  size = 4\n",
      "  A[a:a+size] = 'abcd'\n",
      "  B[b:b+size] = 'abcd'\n"
     ]
    }
   ],
   "source": [
    "print('\\nTreat spaces as junk:')\n",
    "s2 = SequenceMatcher(lambda x: x == \" \", A, B)\n",
    "match2 = s2.find_longest_match(0, len(A), 0, len(B))\n",
    "show_results(match2)"
   ]
  },
  {
   "cell_type": "markdown",
   "metadata": {},
   "source": [
    "\n",
    "## Compare arbitary types"
   ]
  },
  {
   "cell_type": "code",
   "execution_count": 24,
   "metadata": {},
   "outputs": [
    {
     "name": "stdout",
     "output_type": "stream",
     "text": [
      "Initial data:\n",
      "s1 = [1, 2, 3, 5, 6, 4]\n",
      "s2 = [2, 3, 5, 4, 6, 1]\n",
      "s1 == s2: False\n",
      "\n"
     ]
    }
   ],
   "source": [
    "s1 = [1, 2, 3, 5, 6, 4]\n",
    "s2 = [2, 3, 5, 4, 6, 1]\n",
    "\n",
    "print('Initial data:')\n",
    "print('s1 =', s1)\n",
    "print('s2 =', s2)\n",
    "print('s1 == s2:', s1 == s2)\n",
    "print()"
   ]
  },
  {
   "cell_type": "code",
   "execution_count": 25,
   "metadata": {},
   "outputs": [
    {
     "name": "stdout",
     "output_type": "stream",
     "text": [
      "Replace [4] from s1[5:6] with [1] from s2[5:6]\n",
      "  before = [1, 2, 3, 5, 6, 4]\n",
      "   after = [1, 2, 3, 5, 6, 1] \n",
      "\n",
      "s1[4:5] and s2[4:5] are the same\n",
      "   after = [1, 2, 3, 5, 6, 1] \n",
      "\n",
      "Insert [4] from s2[3:4] into s1 at 4\n",
      "  before = [1, 2, 3, 5, 6, 1]\n",
      "   after = [1, 2, 3, 5, 4, 6, 1] \n",
      "\n",
      "s1[1:4] and s2[0:3] are the same\n",
      "   after = [1, 2, 3, 5, 4, 6, 1] \n",
      "\n",
      "Remove [1] from positions [0:1]\n",
      "  before = [1, 2, 3, 5, 4, 6, 1]\n",
      "   after = [2, 3, 5, 4, 6, 1] \n",
      "\n",
      "s1 == s2: True\n"
     ]
    }
   ],
   "source": [
    "matcher = difflib.SequenceMatcher(None, s1, s2)\n",
    "for tag, i1, i2, j1, j2 in reversed(matcher.get_opcodes()):\n",
    "\n",
    "    if tag == 'delete':\n",
    "        print('Remove {} from positions [{}:{}]'.format(\n",
    "            s1[i1:i2], i1, i2))\n",
    "        print('  before =', s1)\n",
    "        del s1[i1:i2]\n",
    "\n",
    "    elif tag == 'equal':\n",
    "        print('s1[{}:{}] and s2[{}:{}] are the same'.format(\n",
    "            i1, i2, j1, j2))\n",
    "\n",
    "    elif tag == 'insert':\n",
    "        print('Insert {} from s2[{}:{}] into s1 at {}'.format(\n",
    "            s2[j1:j2], j1, j2, i1))\n",
    "        print('  before =', s1)\n",
    "        s1[i1:i2] = s2[j1:j2]\n",
    "\n",
    "    elif tag == 'replace':\n",
    "        print(('Replace {} from s1[{}:{}] '\n",
    "               'with {} from s2[{}:{}]').format(\n",
    "                   s1[i1:i2], i1, i2, s2[j1:j2], j1, j2))\n",
    "        print('  before =', s1)\n",
    "        s1[i1:i2] = s2[j1:j2]\n",
    "\n",
    "    print('   after =', s1, '\\n')\n",
    "\n",
    "print('s1 == s2:', s1 == s2)"
   ]
  },
  {
   "cell_type": "code",
   "execution_count": 26,
   "metadata": {},
   "outputs": [
    {
     "name": "stdout",
     "output_type": "stream",
     "text": [
      "delete    a[0:1] --> b[0:0]      'q' --> ''\n",
      "equal     a[1:3] --> b[0:2]     'ab' --> 'ab'\n",
      "replace   a[3:4] --> b[2:3]      'x' --> 'y'\n",
      "equal     a[4:6] --> b[3:5]     'cd' --> 'cd'\n",
      "insert    a[6:6] --> b[5:6]       '' --> 'f'\n"
     ]
    }
   ],
   "source": [
    "a = \"qabxcd\"\n",
    "b = \"abycdf\"\n",
    "s = SequenceMatcher(None, a, b)\n",
    "for tag, i1, i2, j1, j2 in s.get_opcodes():\n",
    "    print('{:7}   a[{}:{}] --> b[{}:{}] {!r:>8} --> {!r}'.format(\n",
    "        tag, i1, i2, j1, j2, a[i1:i2], b[j1:j2]))"
   ]
  },
  {
   "cell_type": "code",
   "execution_count": 35,
   "metadata": {},
   "outputs": [
    {
     "name": "stdout",
     "output_type": "stream",
     "text": [
      "\n"
     ]
    },
    {
     "name": "stderr",
     "output_type": "stream",
     "text": [
      "UsageError: Line magic function `%html` not found (But cell magic `%%html` exists, did you mean that instead?).\n"
     ]
    }
   ],
   "source": [
    "a = '<a href=\"#\">Link</a>'\n",
    "b = '<a href=\"http://localhost/\">Link2</a>'\n",
    "\n",
    "d = difflib.HtmlDiff()\n",
    "print()\n",
    "\n",
    "%html d.make_table(a, b)\n",
    "\n",
    "%html?"
   ]
  },
  {
   "cell_type": "code",
   "execution_count": null,
   "metadata": {},
   "outputs": [],
   "source": []
  }
 ],
 "metadata": {
  "kernelspec": {
   "display_name": "Python 3",
   "language": "python",
   "name": "python3"
  },
  "language_info": {
   "codemirror_mode": {
    "name": "ipython",
    "version": 3
   },
   "file_extension": ".py",
   "mimetype": "text/x-python",
   "name": "python",
   "nbconvert_exporter": "python",
   "pygments_lexer": "ipython3",
   "version": "3.6.1"
  }
 },
 "nbformat": 4,
 "nbformat_minor": 2
}
